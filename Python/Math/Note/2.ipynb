{
 "cells": [
  {
   "cell_type": "markdown",
   "metadata": {},
   "source": [
    "# Numpy"
   ]
  },
  {
   "cell_type": "code",
   "execution_count": 1,
   "metadata": {},
   "outputs": [],
   "source": [
    "import numpy as np"
   ]
  },
  {
   "cell_type": "code",
   "execution_count": 9,
   "metadata": {},
   "outputs": [
    {
     "name": "stdout",
     "output_type": "stream",
     "text": [
      "[ 1  4  9 16 25]\n"
     ]
    }
   ],
   "source": [
    "a = np.array([1,2,3,4,5])\n",
    "print(a**2)"
   ]
  },
  {
   "cell_type": "markdown",
   "metadata": {},
   "source": [
    "从列表传入"
   ]
  },
  {
   "cell_type": "code",
   "execution_count": 11,
   "metadata": {},
   "outputs": [
    {
     "data": {
      "text/plain": [
       "array([0, 2, 4, 6, 8])"
      ]
     },
     "execution_count": 11,
     "metadata": {},
     "output_type": "execute_result"
    }
   ],
   "source": [
    "l = [0,2,4,6,8]\n",
    "b = np.array(l)\n",
    "b"
   ]
  },
  {
   "cell_type": "markdown",
   "metadata": {},
   "source": [
    "生成全0,全1数组"
   ]
  },
  {
   "cell_type": "code",
   "execution_count": 21,
   "metadata": {},
   "outputs": [
    {
     "name": "stdout",
     "output_type": "stream",
     "text": [
      "[0 0 0 0 0] [ True  True  True  True  True  True  True]\n"
     ]
    }
   ],
   "source": [
    "a1 = np.zeros(5,dtype='int')\n",
    "a2 = np.ones(7,dtype='bool')\n",
    "print(a1,a2)"
   ]
  },
  {
   "cell_type": "markdown",
   "metadata": {},
   "source": [
    "fill 方法  与数据格式转换"
   ]
  },
  {
   "cell_type": "code",
   "execution_count": 33,
   "metadata": {},
   "outputs": [
    {
     "name": "stdout",
     "output_type": "stream",
     "text": [
      "[1 2 3 4]\n",
      "[2 2 2 2]\n",
      "[2.5 2.5 2.5 2.5]\n"
     ]
    }
   ],
   "source": [
    "a3 = np.array([1,2,3,4],dtype='int')\n",
    "print(a3)\n",
    "a3.fill(2.5)\n",
    "print(a3)\n",
    "a3 = a3.astype('float')\n",
    "a3.fill(2.5)\n",
    "print(a3)"
   ]
  },
  {
   "cell_type": "code",
   "execution_count": 36,
   "metadata": {},
   "outputs": [
    {
     "data": {
      "text/plain": [
       "array([1, 2, 3, 4, 5, 6, 7, 8, 9])"
      ]
     },
     "execution_count": 36,
     "metadata": {},
     "output_type": "execute_result"
    }
   ],
   "source": [
    "a4 = np.arange(1,10) #左闭右开的区间\n",
    "a4"
   ]
  },
  {
   "cell_type": "code",
   "execution_count": 37,
   "metadata": {},
   "outputs": [
    {
     "data": {
      "text/plain": [
       "array([  1,   4,   7,  10,  13,  16,  19,  22,  25,  28,  31,  34,  37,\n",
       "        40,  43,  46,  49,  52,  55,  58,  61,  64,  67,  70,  73,  76,\n",
       "        79,  82,  85,  88,  91,  94,  97, 100, 103, 106, 109, 112, 115,\n",
       "       118, 121, 124, 127, 130, 133, 136, 139, 142, 145, 148, 151, 154,\n",
       "       157, 160, 163, 166, 169, 172, 175, 178, 181, 184, 187, 190, 193,\n",
       "       196, 199, 202, 205, 208, 211, 214, 217, 220, 223, 226, 229, 232])"
      ]
     },
     "execution_count": 37,
     "metadata": {},
     "output_type": "execute_result"
    }
   ],
   "source": [
    "a5 = np.arange(1,233,3)\n",
    "a5"
   ]
  },
  {
   "cell_type": "code",
   "execution_count": 39,
   "metadata": {},
   "outputs": [
    {
     "data": {
      "text/plain": [
       "array([ 800,  440, 1210, 1550])"
      ]
     },
     "execution_count": 39,
     "metadata": {},
     "output_type": "execute_result"
    }
   ],
   "source": [
    "ob = np.array([21000,21800,22240,23450,25000])\n",
    "result = ob[1:]-ob[:-1]\n",
    "result"
   ]
  },
  {
   "cell_type": "code",
   "execution_count": 50,
   "metadata": {},
   "outputs": [
    {
     "data": {
      "text/plain": [
       "array([[ 3,  4],\n",
       "       [ 8,  9],\n",
       "       [30, 40]])"
      ]
     },
     "execution_count": 50,
     "metadata": {},
     "output_type": "execute_result"
    }
   ],
   "source": [
    "arr = np.array([[1,2,3,4,5],\n",
    "                [6,7,8,9,10],\n",
    "                [10,20,30,40,50]])\n",
    "cc = arr[0:3,2:4].copy() #切片的本质是引用，需要通过copy开辟新的区域\n",
    "cc"
   ]
  },
  {
   "cell_type": "code",
   "execution_count": 65,
   "metadata": {},
   "outputs": [
    {
     "name": "stdout",
     "output_type": "stream",
     "text": [
      "[ 2  3  4  6  7 10 10 20 30 50]\n",
      "[ 1  8 50]\n",
      "[[ 1  3  5]\n",
      " [ 6  8 10]\n",
      " [10 30 50]]\n"
     ]
    }
   ],
   "source": [
    "mm = np.array(\n",
    "    [[0,1,1,1,0],\n",
    "     [5,4,0,0,1],\n",
    "     [1,5,6,0,9]]\n",
    "     ,dtype=bool)\n",
    "print(arr[mm])\n",
    "print(arr[(0,1,2),(0,2,4)]) #其实就是对应坐标，不过把x写一起，y写一起\n",
    "print(arr[:,[0,2,4]])"
   ]
  },
  {
   "cell_type": "code",
   "execution_count": null,
   "metadata": {},
   "outputs": [],
   "source": []
  }
 ],
 "metadata": {
  "kernelspec": {
   "display_name": "MathClub",
   "language": "python",
   "name": "python3"
  },
  "language_info": {
   "codemirror_mode": {
    "name": "ipython",
    "version": 3
   },
   "file_extension": ".py",
   "mimetype": "text/x-python",
   "name": "python",
   "nbconvert_exporter": "python",
   "pygments_lexer": "ipython3",
   "version": "3.8.19"
  }
 },
 "nbformat": 4,
 "nbformat_minor": 2
}
