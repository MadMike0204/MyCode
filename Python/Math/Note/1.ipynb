{
 "cells": [
  {
   "cell_type": "markdown",
   "id": "0a147d9f-e486-4842-90c0-973fff83d527",
   "metadata": {},
   "source": [
    "# 基础"
   ]
  },
  {
   "cell_type": "markdown",
   "id": "13a51859-7446-4682-bf7a-44b32bddfbf9",
   "metadata": {},
   "source": [
    "多行字符串"
   ]
  },
  {
   "cell_type": "code",
   "execution_count": 3,
   "id": "d63e6905-d118-4b34-a32d-767b58c62bf3",
   "metadata": {},
   "outputs": [
    {
     "name": "stdout",
     "output_type": "stream",
     "text": [
      "Hello\n",
      "World,\n",
      "Jojo\n",
      "\n"
     ]
    }
   ],
   "source": [
    "s = '''Hello\n",
    "World,\n",
    "Jojo\n",
    "'''\n",
    "print(s)"
   ]
  },
  {
   "cell_type": "markdown",
   "id": "de37f998-19b2-4da0-9c67-b03c62c5612c",
   "metadata": {},
   "source": [
    "字符串加法"
   ]
  },
  {
   "cell_type": "code",
   "execution_count": 52,
   "id": "0ae19efa-926f-4700-835c-85660049ef57",
   "metadata": {},
   "outputs": [
    {
     "data": {
      "text/plain": [
       "'JOJO Jostar'"
      ]
     },
     "execution_count": 52,
     "metadata": {},
     "output_type": "execute_result"
    }
   ],
   "source": [
    "s = \"JOJO\"+\" Jostar\"\n",
    "s"
   ]
  },
  {
   "cell_type": "markdown",
   "id": "f14d8adf-aa69-477b-ac26-a3f5380cc1d4",
   "metadata": {},
   "source": [
    "字符串索引"
   ]
  },
  {
   "cell_type": "code",
   "execution_count": 53,
   "id": "279320e9-626e-41ea-9ff4-a27844586de1",
   "metadata": {},
   "outputs": [
    {
     "data": {
      "text/plain": [
       "'O'"
      ]
     },
     "execution_count": 53,
     "metadata": {},
     "output_type": "execute_result"
    }
   ],
   "source": [
    "s[1]"
   ]
  },
  {
   "cell_type": "markdown",
   "id": "9a890f48-c730-4d4f-b939-c1439cfcca61",
   "metadata": {},
   "source": [
    "字符串分割"
   ]
  },
  {
   "cell_type": "code",
   "execution_count": 54,
   "id": "fa319fb5-8212-46a6-a3d8-aeec9063d480",
   "metadata": {},
   "outputs": [
    {
     "data": {
      "text/plain": [
       "['JOJO', 'Jostar']"
      ]
     },
     "execution_count": 54,
     "metadata": {},
     "output_type": "execute_result"
    }
   ],
   "source": [
    "s.split()"
   ]
  },
  {
   "cell_type": "code",
   "execution_count": 55,
   "id": "bd2a070a-4d27-4017-ae7f-64e17211dc93",
   "metadata": {},
   "outputs": [
    {
     "data": {
      "text/plain": [
       "['JOJO J', 'star']"
      ]
     },
     "execution_count": 55,
     "metadata": {},
     "output_type": "execute_result"
    }
   ],
   "source": [
    "s.split('o')"
   ]
  },
  {
   "cell_type": "code",
   "execution_count": 56,
   "id": "787cee45-95eb-4149-8361-854c38de2727",
   "metadata": {},
   "outputs": [
    {
     "data": {
      "text/plain": [
       "11"
      ]
     },
     "execution_count": 56,
     "metadata": {},
     "output_type": "execute_result"
    }
   ],
   "source": [
    "len(s)"
   ]
  },
  {
   "cell_type": "markdown",
   "id": "309ac310-2e30-46f5-af96-0194841b67e4",
   "metadata": {},
   "source": [
    "# 数据结构"
   ]
  },
  {
   "cell_type": "markdown",
   "id": "c00b9036-8888-4e0d-bb64-a00dba86216c",
   "metadata": {},
   "source": [
    "1.列表list"
   ]
  },
  {
   "cell_type": "code",
   "execution_count": 57,
   "id": "4ccd8dce-8c6e-439c-8ea7-45ddcf29b210",
   "metadata": {},
   "outputs": [
    {
     "data": {
      "text/plain": [
       "[1, 2, 3, 4, 5, 6]"
      ]
     },
     "execution_count": 57,
     "metadata": {},
     "output_type": "execute_result"
    }
   ],
   "source": [
    "a = [1,2,3,4,5,6]\n",
    "a"
   ]
  },
  {
   "cell_type": "code",
   "execution_count": 58,
   "id": "c94462bf-8336-410e-a9aa-5ed75095f310",
   "metadata": {},
   "outputs": [
    {
     "data": {
      "text/plain": [
       "['Josef', '脑缠', 'Jostar']"
      ]
     },
     "execution_count": 58,
     "metadata": {},
     "output_type": "execute_result"
    }
   ],
   "source": [
    "actors = [\"Josef\",\"脑缠\",\"Jostar\"]\n",
    "actors"
   ]
  },
  {
   "cell_type": "code",
   "execution_count": 59,
   "id": "766e1a1b-cd17-4898-b9d4-0d32cc2ffc8a",
   "metadata": {},
   "outputs": [
    {
     "data": {
      "text/plain": [
       "['你', '好']"
      ]
     },
     "execution_count": 59,
     "metadata": {},
     "output_type": "execute_result"
    }
   ],
   "source": [
    "list('你好')"
   ]
  },
  {
   "cell_type": "code",
   "execution_count": 60,
   "id": "1e84c321-3ec4-4740-8ac5-caf6e3726873",
   "metadata": {},
   "outputs": [
    {
     "data": {
      "text/plain": [
       "[1, 2, 3, 4, 5, 6, 'Josef', '脑缠', 'Jostar']"
      ]
     },
     "execution_count": 60,
     "metadata": {},
     "output_type": "execute_result"
    }
   ],
   "source": [
    "b = a + actors\n",
    "b"
   ]
  },
  {
   "cell_type": "code",
   "execution_count": 61,
   "id": "e00f0e26-7eaf-4319-a07a-d7c1749de744",
   "metadata": {},
   "outputs": [
    {
     "data": {
      "text/plain": [
       "'脑缠'"
      ]
     },
     "execution_count": 61,
     "metadata": {},
     "output_type": "execute_result"
    }
   ],
   "source": [
    "b[7]"
   ]
  },
  {
   "cell_type": "code",
   "execution_count": 62,
   "id": "1840301f-770b-4d49-bb82-32e422b87793",
   "metadata": {},
   "outputs": [
    {
     "data": {
      "text/plain": [
       "[1, 2, 3, 4, 5, 6, 'Josef', '脑缠', 'Jostar', 'jojo']"
      ]
     },
     "execution_count": 62,
     "metadata": {},
     "output_type": "execute_result"
    }
   ],
   "source": [
    "b.append('jojo')\n",
    "b"
   ]
  },
  {
   "cell_type": "code",
   "execution_count": 63,
   "id": "2ad583ab-725b-414e-aa96-2d13a6786456",
   "metadata": {},
   "outputs": [
    {
     "data": {
      "text/plain": [
       "[1, 2, 3, 'Hellw', 4, 5, 6]"
      ]
     },
     "execution_count": 63,
     "metadata": {},
     "output_type": "execute_result"
    }
   ],
   "source": [
    "a.insert(3,'Hellw')\n",
    "a"
   ]
  },
  {
   "cell_type": "code",
   "execution_count": 65,
   "id": "83032a39-b71a-4b1d-8871-c6c5444ea7f5",
   "metadata": {},
   "outputs": [
    {
     "data": {
      "text/plain": [
       "[1, 2, 3, 6, 'Josef', '脑缠', 'Jostar', 'jojo']"
      ]
     },
     "execution_count": 65,
     "metadata": {},
     "output_type": "execute_result"
    }
   ],
   "source": [
    "b.pop(3)\n",
    "b"
   ]
  },
  {
   "cell_type": "code",
   "execution_count": 66,
   "id": "b1236e71-4b2a-4125-8a23-11821da9eee7",
   "metadata": {},
   "outputs": [
    {
     "data": {
      "text/plain": [
       "['Josef', '脑缠']"
      ]
     },
     "execution_count": 66,
     "metadata": {},
     "output_type": "execute_result"
    }
   ],
   "source": [
    "b[4:6]"
   ]
  },
  {
   "cell_type": "code",
   "execution_count": 67,
   "id": "22c8e519-57ea-4842-9daf-7d9de67f66a7",
   "metadata": {},
   "outputs": [
    {
     "data": {
      "text/plain": [
       "[1, 2]"
      ]
     },
     "execution_count": 67,
     "metadata": {},
     "output_type": "execute_result"
    }
   ],
   "source": [
    "b[:2]"
   ]
  },
  {
   "cell_type": "code",
   "execution_count": 74,
   "id": "b9d9480d-2bc4-4dc8-aee3-9dc9ef9dd3be",
   "metadata": {},
   "outputs": [
    {
     "data": {
      "text/plain": [
       "[1, 2, 3, 6, 'Josef', '脑缠', 'Jostar', 'jojo']"
      ]
     },
     "execution_count": 74,
     "metadata": {},
     "output_type": "execute_result"
    }
   ],
   "source": [
    "b[0:]"
   ]
  },
  {
   "cell_type": "code",
   "execution_count": 79,
   "id": "d39683f1-f6ca-4089-85c3-d1158f88af03",
   "metadata": {},
   "outputs": [
    {
     "data": {
      "text/plain": [
       "[3, 6, 9, 12]"
      ]
     },
     "execution_count": 79,
     "metadata": {},
     "output_type": "execute_result"
    }
   ],
   "source": [
    "c = [1,2,3,4,5,6,7,8,9,10,11,12,13,14,15,16]\n",
    "c[2:-2:3]"
   ]
  },
  {
   "cell_type": "markdown",
   "id": "7bbfed3a-d7a5-40c8-85bf-86b3ef1303a2",
   "metadata": {},
   "source": [
    "2.元组tuple : 初始化后不可修改"
   ]
  },
  {
   "cell_type": "code",
   "execution_count": 81,
   "id": "13eb48f0-6162-4c36-a3e7-a221c716d217",
   "metadata": {},
   "outputs": [
    {
     "data": {
      "text/plain": [
       "(1, 2, 3, 4, 5, 6)"
      ]
     },
     "execution_count": 81,
     "metadata": {},
     "output_type": "execute_result"
    }
   ],
   "source": [
    "d = (1,2,3,4,5,6)\n",
    "d"
   ]
  },
  {
   "cell_type": "markdown",
   "id": "5b17c5b0-986f-44c2-a62a-ef223e9b7c2e",
   "metadata": {},
   "source": [
    "字典 dict"
   ]
  },
  {
   "cell_type": "code",
   "execution_count": 97,
   "id": "244d3d42-5664-491c-9eeb-f6429f1abb8e",
   "metadata": {},
   "outputs": [
    {
     "data": {
      "text/plain": [
       "{'name': 'jojo', 'age': '17', 'height': '1.89'}"
      ]
     },
     "execution_count": 97,
     "metadata": {},
     "output_type": "execute_result"
    }
   ],
   "source": [
    "mv = {'name':'jojo','age':'17','height':'1.89'}\n",
    "mv"
   ]
  },
  {
   "cell_type": "code",
   "execution_count": 98,
   "id": "1435d55f-9def-4a54-bcbc-3599c3616e69",
   "metadata": {},
   "outputs": [
    {
     "data": {
      "text/plain": [
       "'17'"
      ]
     },
     "execution_count": 98,
     "metadata": {},
     "output_type": "execute_result"
    }
   ],
   "source": [
    "mv['age']"
   ]
  },
  {
   "cell_type": "code",
   "execution_count": 99,
   "id": "e47bbe0d-51c8-4a7f-a4e9-b5a2ac70b24f",
   "metadata": {},
   "outputs": [
    {
     "data": {
      "text/plain": [
       "dict_keys(['name', 'age', 'height'])"
      ]
     },
     "execution_count": 99,
     "metadata": {},
     "output_type": "execute_result"
    }
   ],
   "source": [
    "mv.keys() #键值"
   ]
  },
  {
   "cell_type": "code",
   "execution_count": 100,
   "id": "7e3949fe-da22-4c80-9168-c6745ac446f3",
   "metadata": {},
   "outputs": [
    {
     "data": {
      "text/plain": [
       "dict_values(['jojo', '17', '1.89'])"
      ]
     },
     "execution_count": 100,
     "metadata": {},
     "output_type": "execute_result"
    }
   ],
   "source": [
    "mv.values() #值"
   ]
  },
  {
   "cell_type": "code",
   "execution_count": 101,
   "id": "001bf35d-2e9e-4887-99d8-15886f438cc9",
   "metadata": {},
   "outputs": [
    {
     "data": {
      "text/plain": [
       "dict_items([('name', 'jojo'), ('age', '17'), ('height', '1.89')])"
      ]
     },
     "execution_count": 101,
     "metadata": {},
     "output_type": "execute_result"
    }
   ],
   "source": [
    "mv.items()  #键值对"
   ]
  },
  {
   "cell_type": "code",
   "execution_count": 102,
   "id": "4d3b2565-b776-4441-8649-15b817f8a082",
   "metadata": {},
   "outputs": [
    {
     "data": {
      "text/plain": [
       "{'name': 'Joseph', 'age': '17', 'height': '1.89'}"
      ]
     },
     "execution_count": 102,
     "metadata": {},
     "output_type": "execute_result"
    }
   ],
   "source": [
    "mv['name'] = 'Joseph'\n",
    "mv"
   ]
  },
  {
   "cell_type": "code",
   "execution_count": 103,
   "id": "35162a2a-6a37-4b9f-8893-972ab27ea86c",
   "metadata": {},
   "outputs": [
    {
     "data": {
      "text/plain": [
       "dict_keys(['name', 'age', 'height', '口头禅'])"
      ]
     },
     "execution_count": 103,
     "metadata": {},
     "output_type": "execute_result"
    }
   ],
   "source": [
    "mv['口头禅'] = '你的下一句话是...'\n",
    "mv.keys()"
   ]
  },
  {
   "cell_type": "code",
   "execution_count": 107,
   "id": "e24870e9-2d04-454b-9b34-a86c1327d2d3",
   "metadata": {},
   "outputs": [
    {
     "data": {
      "text/plain": [
       "{'name': 'Joseph', 'age': '17', '口头禅': '你的下一句话是...'}"
      ]
     },
     "execution_count": 107,
     "metadata": {},
     "output_type": "execute_result"
    }
   ],
   "source": [
    "mv.pop('height')"
   ]
  },
  {
   "cell_type": "markdown",
   "id": "a3c2a834-bd39-47a2-807f-7599048e96f9",
   "metadata": {},
   "source": [
    "集合set 不会有重复数据"
   ]
  },
  {
   "cell_type": "code",
   "execution_count": 108,
   "id": "a6528603-c0ea-4b4f-bb77-123762203103",
   "metadata": {},
   "outputs": [
    {
     "data": {
      "text/plain": [
       "{2, 3, 4, 5}"
      ]
     },
     "execution_count": 108,
     "metadata": {},
     "output_type": "execute_result"
    }
   ],
   "source": [
    "s  = {2,3,4,5}\n",
    "s"
   ]
  },
  {
   "cell_type": "code",
   "execution_count": 109,
   "id": "666f575e-ebaa-49d4-a1df-591a1c4f6a90",
   "metadata": {},
   "outputs": [
    {
     "data": {
      "text/plain": [
       "4"
      ]
     },
     "execution_count": 109,
     "metadata": {},
     "output_type": "execute_result"
    }
   ],
   "source": [
    "len(s)"
   ]
  },
  {
   "cell_type": "code",
   "execution_count": 111,
   "id": "e8f567db-1e47-44bc-805e-3e0d203d8115",
   "metadata": {},
   "outputs": [
    {
     "data": {
      "text/plain": [
       "{2, 3, 4, 5, 99}"
      ]
     },
     "execution_count": 111,
     "metadata": {},
     "output_type": "execute_result"
    }
   ],
   "source": [
    "s.add(99)\n",
    "s"
   ]
  },
  {
   "cell_type": "code",
   "execution_count": 113,
   "id": "a51ef3d9-a37a-4ef2-a06e-d4b347670036",
   "metadata": {},
   "outputs": [
    {
     "data": {
      "text/plain": [
       "{2, 5}"
      ]
     },
     "execution_count": 113,
     "metadata": {},
     "output_type": "execute_result"
    }
   ],
   "source": [
    "s1 = {2,5,6}\n",
    "s & s1"
   ]
  },
  {
   "cell_type": "code",
   "execution_count": 114,
   "id": "3bbdd90a-17b0-4cde-b209-234d747f9894",
   "metadata": {},
   "outputs": [
    {
     "data": {
      "text/plain": [
       "{2, 3, 4, 5, 6, 99}"
      ]
     },
     "execution_count": 114,
     "metadata": {},
     "output_type": "execute_result"
    }
   ],
   "source": [
    "s | s1"
   ]
  },
  {
   "cell_type": "code",
   "execution_count": 121,
   "id": "982ebd32-4c1c-41a4-8581-c5c75e91af67",
   "metadata": {},
   "outputs": [
    {
     "name": "stdout",
     "output_type": "stream",
     "text": [
      "{1, 2, 3}\n",
      "{8, 6, 7}\n"
     ]
    }
   ],
   "source": [
    "mm = {1,2,3,4,5}\n",
    "gg = {4,5,6,7,8}\n",
    "print(mm-gg)\n",
    "print(gg-mm)"
   ]
  },
  {
   "cell_type": "code",
   "execution_count": null,
   "id": "b450bc1c-1284-4ebb-8ff7-69c6a5a0998e",
   "metadata": {},
   "outputs": [],
   "source": []
  }
 ],
 "metadata": {
  "kernelspec": {
   "display_name": "Python 3 (ipykernel)",
   "language": "python",
   "name": "python3"
  },
  "language_info": {
   "codemirror_mode": {
    "name": "ipython",
    "version": 3
   },
   "file_extension": ".py",
   "mimetype": "text/x-python",
   "name": "python",
   "nbconvert_exporter": "python",
   "pygments_lexer": "ipython3",
   "version": "3.8.19"
  }
 },
 "nbformat": 4,
 "nbformat_minor": 5
}
