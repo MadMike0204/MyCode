{
 "cells": [
  {
   "cell_type": "markdown",
   "metadata": {},
   "source": [
    "蒙特卡罗模拟"
   ]
  },
  {
   "cell_type": "code",
   "execution_count": 102,
   "metadata": {},
   "outputs": [
    {
     "name": "stdout",
     "output_type": "stream",
     "text": [
      "f:\\------------------OWN\\VSCode\\Python\\Math\\MathClub\\51club\\B\n",
      "05021702\n"
     ]
    }
   ],
   "source": [
    "import numpy as np\n",
    "import pandas as pd\n",
    "import time\n",
    "import networkx as nx\n",
    "import matplotlib.pyplot as plt\n",
    "from itertools import islice\n",
    "import random\n",
    "from scipy.optimize import minimize\n",
    "import os\n",
    "print(os.getcwd())\n",
    "from datetime import datetime\n",
    "current_time = datetime.now().strftime(\"%m%d%H%M\")\n",
    "print(current_time)\n"
   ]
  },
  {
   "cell_type": "code",
   "execution_count": 91,
   "metadata": {},
   "outputs": [],
   "source": [
    "# 读取文件 生成交通需求\n",
    "def read_excel_data(filepath):\n",
    "\n",
    "    demands = {}\n",
    "    demands_dataframe = pd.read_excel(filepath,sheet_name='Demands')\n",
    "    for index, row in demands_dataframe.iterrows():\n",
    "        origin_destination = (row['Start'], row['End'])\n",
    "        demand_value = row['Demand']\n",
    "        demands[origin_destination] = demand_value * 1.0\n",
    "    return demands\n",
    "\n",
    "filepath = r'data/TDNetwork2.xlsx'"
   ]
  },
  {
   "cell_type": "code",
   "execution_count": 92,
   "metadata": {},
   "outputs": [],
   "source": [
    "#定义并获取交通网络图\n",
    "def create_graph():\n",
    "    G = nx.Graph()\n",
    "    edges = [(1, 2), (1, 4), \n",
    "             (2, 3), (2, 5),\n",
    "             (3, 6),\n",
    "             (4, 5), (4, 7),\n",
    "             (5, 6), (5, 8),\n",
    "             (6, 9),\n",
    "             (7, 8),\n",
    "             (8, 9)]\n",
    "    G.add_edges_from(edges)\n",
    "    return G\n",
    "G = create_graph()"
   ]
  },
  {
   "cell_type": "code",
   "execution_count": 93,
   "metadata": {},
   "outputs": [],
   "source": [
    "def generate_all_paths(G, source, target, cutoff=None):\n",
    "    \"\"\" 生成从source到target的所有简单路径 \"\"\"\n",
    "    return list(nx.all_simple_paths(G, source=source, target=target, cutoff=cutoff))"
   ]
  },
  {
   "cell_type": "code",
   "execution_count": 94,
   "metadata": {},
   "outputs": [],
   "source": [
    "def simulate_network(G, source_target_demands, num_simulations=1000):\n",
    "    success_rates = []\n",
    "\n",
    "    for _ in range(num_simulations):\n",
    "        successful_demand = 0\n",
    "        total_network_demand = sum(source_target_demands.values())  # 网络总需求\n",
    "\n",
    "        for (source, target), demand in source_target_demands.items():\n",
    "            paths = generate_all_paths(G, source, target)  # 获取k最短路径\n",
    "            path_demands = np.random.randint(1, demand, size=len(paths))  # 随机分配\n",
    "            path_demands = path_demands / path_demands.sum() * demand  # 归一化以匹配该起止点的总需求\n",
    "\n",
    "            for path, path_demand in zip(paths, path_demands):\n",
    "                if all(random.random() >= 1/12 for _ in path[:-1]):  # 检查每条路径上的边是否未中断\n",
    "                    successful_demand += path_demand\n",
    "\n",
    "        success_rate = successful_demand / total_network_demand if total_network_demand > 0 else 0\n",
    "        success_rates.append(success_rate)\n",
    "\n",
    "    return np.mean(success_rates) * 100  # 返回平均成功率的百分比形式\n"
   ]
  },
  {
   "cell_type": "code",
   "execution_count": 95,
   "metadata": {},
   "outputs": [
    {
     "name": "stdout",
     "output_type": "stream",
     "text": [
      "Average success rate: 6625.43%\n"
     ]
    }
   ],
   "source": [
    "# 运行模拟\n",
    "demands = read_excel_data(filepath)\n",
    "average_success_rate = simulate_network(G, demands)\n",
    "print(f\"Average success rate: {average_success_rate * 100:.2f}%\")"
   ]
  }
 ],
 "metadata": {
  "kernelspec": {
   "display_name": "MathClub",
   "language": "python",
   "name": "python3"
  },
  "language_info": {
   "codemirror_mode": {
    "name": "ipython",
    "version": 3
   },
   "file_extension": ".py",
   "mimetype": "text/x-python",
   "name": "python",
   "nbconvert_exporter": "python",
   "pygments_lexer": "ipython3",
   "version": "3.8.19"
  }
 },
 "nbformat": 4,
 "nbformat_minor": 2
}
